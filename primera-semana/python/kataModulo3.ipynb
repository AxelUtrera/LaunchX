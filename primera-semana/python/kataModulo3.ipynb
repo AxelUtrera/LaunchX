{
 "cells": [
  {
   "cell_type": "markdown",
   "metadata": {},
   "source": [
    "# Ejercicio 1\n",
    "Para este ejercicio, escribirás una lógica condicional que imprima una advertencia si un asteroide se acerca a la Tierra demasiado rápido. La velocidad del asteroide varía dependiendo de lo cerca que esté del sol, y cualquier velocidad superior a 25 kilómetros por segundo (km/s) merece una advertencia.\n"
   ]
  },
  {
   "cell_type": "code",
   "execution_count": null,
   "metadata": {},
   "outputs": [],
   "source": [
    "def run():\n",
    "    velocity = 26\n",
    "    if velocity > 25:\n",
    "        print(\"¡Alerta!, un asteroide se acerca demasiado rapido a la tierra!\")\n",
    "    else:\n",
    "        print(\"Todo esta perfecto, ningun asteriode peligroso acercandose a la tierra :D\")\n",
    "\n",
    "if __name__ == '__main__':\n",
    "    run()\n"
   ]
  },
  {
   "cell_type": "markdown",
   "metadata": {},
   "source": [
    "# Ejercicio 2\n",
    "Agrega el código para crear una variable para un asteroide que viaja a 19 km/s\n",
    "Escribe varias expresiones de prueba para determinar si puedes ver el rayo de luz desde la tierra\n",
    "Agrega las instrucciones que se ejecutarán si las expresiones de prueba son True o False"
   ]
  },
  {
   "cell_type": "code",
   "execution_count": null,
   "metadata": {},
   "outputs": [],
   "source": [
    "def run():\n",
    "    velocity = 19\n",
    "    if velocity >= 20:\n",
    "        print(\"¡Mira!, mira una luz en el cielo\")\n",
    "    else:\n",
    "        print(\"No se ve nah de nah D:\")\n",
    "\n",
    "\n",
    "if __name__ == '__main__':\n",
    "    run()\n"
   ]
  },
  {
   "cell_type": "markdown",
   "metadata": {},
   "source": [
    "# Ejercicio 3\n",
    "Agrega el código para crear nuevas variables para la velocidad y el tamaño del asteroide\n",
    "Para probar el código, prueba con varias velocidades y tamaños\n",
    "Escribe varias expresiones de prueba o combinaciones de expresiones de prueba para determinar qué mensaje se debe enviar a Tierra."
   ]
  },
  {
   "cell_type": "code",
   "execution_count": null,
   "metadata": {},
   "outputs": [],
   "source": [
    "velocidad_asteroide = 22\n",
    "tamano_asteroide = 62\n",
    "\n",
    "if tamano_asteroide > 25 and velocidad_asteroide > 25:\n",
    "    print(\"Alerta!, Se acerca un asteroide\")\n",
    "elif velocidad_asteroide >= 20:\n",
    "    print(\"Miraa!, hay una hermosa luz en el cielo!\")\n",
    "elif tamano_asteroide < 20:\n",
    "    print(\"Sin problemas, todo bien :3\")\n",
    "else:\n",
    "    print(\"todo bien\")"
   ]
  }
 ],
 "metadata": {
  "interpreter": {
   "hash": "86c5f26c65520335dadbf72e543dc01228b0a0fab28f7269a19f8889fd46ecc5"
  },
  "kernelspec": {
   "display_name": "Python 3.9.7 ('base')",
   "language": "python",
   "name": "python3"
  },
  "language_info": {
   "codemirror_mode": {
    "name": "ipython",
    "version": 3
   },
   "file_extension": ".py",
   "mimetype": "text/x-python",
   "name": "python",
   "nbconvert_exporter": "python",
   "pygments_lexer": "ipython3",
   "version": "3.8.10"
  },
  "orig_nbformat": 4
 },
 "nbformat": 4,
 "nbformat_minor": 2
}
