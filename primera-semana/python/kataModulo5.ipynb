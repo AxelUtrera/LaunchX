{
 "cells": [
  {
   "cell_type": "markdown",
   "metadata": {},
   "source": [
    "# Kata 5 \n",
    "# Ejercicio 1 - Utilizar operadores aritmeticos.\n",
    "Exploremos cómo podemos crear un programa que pueda calcular la distancia entre dos planetas. Comenzaremos usando dos distancias de planetas: Tierra (149.597.870 km) y Júpiter (778.547.200 km)."
   ]
  },
  {
   "cell_type": "code",
   "execution_count": 3,
   "metadata": {},
   "outputs": [
    {
     "name": "stdout",
     "output_type": "stream",
     "text": [
      "390577533.93\n"
     ]
    }
   ],
   "source": [
    "earth_distance = 149597870\n",
    "jupiter_distance = 778547200\n",
    "\n",
    "final_distance = earth_distance - jupiter_distance\n",
    "milles_value = 0.621\n",
    "\n",
    "#se utiliza la funcion abs para convertir a un valor absoluto y eliminar el posible signo negativo del resultado.\n",
    "print(abs(final_distance * milles_value))"
   ]
  },
  {
   "cell_type": "markdown",
   "metadata": {},
   "source": [
    "# Ejercicio 2: convierte cadenas en números y usa valores absolutos\n",
    "Queremos leer la distancia del sol para dos planetas, y luego mostrar la distancia entre los planetas. Haremos esto usando input para leer los valores, int para convertir a entero y luego abs para convertir el resultado en su valor absoluto."
   ]
  },
  {
   "cell_type": "code",
   "execution_count": null,
   "metadata": {},
   "outputs": [],
   "source": [
    "distance_planet_one = int(input(\"ingrese la distancia del planeta uno: \"))\n",
    "distance_planet_two = int(input(\"ingrese la distancia del planeta dos: \"))\n",
    "\n",
    "final_distance =  distance_planet_one - distance_planet_two\n",
    "convert_to_absolute = abs(final_distance)\n",
    "\n",
    "miles_value = 0.621\n",
    "\n",
    "print(\"La distancia entre los dos planetas es de: {} millas\".format(convert_to_absolute * milles_value))"
   ]
  }
 ],
 "metadata": {
  "interpreter": {
   "hash": "916dbcbb3f70747c44a77c7bcd40155683ae19c65e1c03b4aa3499c5328201f1"
  },
  "kernelspec": {
   "display_name": "Python 3.8.10 64-bit",
   "language": "python",
   "name": "python3"
  },
  "language_info": {
   "codemirror_mode": {
    "name": "ipython",
    "version": 3
   },
   "file_extension": ".py",
   "mimetype": "text/x-python",
   "name": "python",
   "nbconvert_exporter": "python",
   "pygments_lexer": "ipython3",
   "version": "3.8.10"
  },
  "orig_nbformat": 4
 },
 "nbformat": 4,
 "nbformat_minor": 2
}
